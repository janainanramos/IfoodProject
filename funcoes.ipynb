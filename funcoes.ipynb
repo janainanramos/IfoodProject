{
 "cells": [
  {
   "cell_type": "code",
   "execution_count": null,
   "metadata": {},
   "outputs": [],
   "source": [
    "import json\n",
    "\n",
    "#função de Leitura do arquivo Json\n",
    "def readData(path:str = 'alunos.json') -> list[dict]:\n",
    "    try:\n",
    "        with open(path, 'r') as file:           \n",
    "            students = json.load(file) \n",
    "            return students\n",
    "    except FileNotFoundError:\n",
    "        return []\n",
    "\n",
    "\n"
   ]
  },
  {
   "cell_type": "code",
   "execution_count": null,
   "metadata": {},
   "outputs": [],
   "source": [
    "#salvar csv com estatísticas\n",
    "def exportCsv (students: list[dict]):\n",
    "   \n",
    "    opcao = input(\"MEDIA - Exportar csv com as Médias || EXTREME - Exportar Media Maxima e Media Minima || SAIR - Não exportar \").upper()\n",
    " \n",
    "    while opcao != \"MEDIA\" and opcao != \"EXTREME\" and opcao != \"SAIR\":\n",
    "        print(\"Entrada Inválida! , Escolha entre as opções exibidas\")\n",
    "        opcao = input(\"MEDIA - Exportar csv com as Médias || EXTREME - Exportar Media Maxima e Media Minima || SAIR - Não exportar \").upper()\n",
    "\n",
    "    if opcao == \"SAIR\":\n",
    "        return print (\"Nenhum arquivo exportado !!\")\n",
    "\n",
    "    if opcao == \"MEDIA\":\n",
    "        listMedia = calculatesAverage(students)\n",
    "        with open('allAverage.csv', 'w') as file:\n",
    "            escritor = csv.writer(file, delimiter=';', lineterminator='\\n')\n",
    "            escritor.writerows(listMedia)\n",
    "            print(\"Arquivo allAverage.csv criado com sucesso!\")\n",
    "      \n",
    "    if opcao == \"EXTREME\":\n",
    "        listMaxMin = extremeAverage(students)\n",
    "        print(listMaxMin, type(listMaxMin))\n",
    "        with open('maxMin.csv', 'w') as file:\n",
    "            escritor = csv.writer(file, delimiter=';', lineterminator='\\n')\n",
    "            escritor.writerows(listMaxMin)\n",
    "            print(\"Arquivo maxMin.csv criado com sucesso!\")"
   ]
  },
  {
   "cell_type": "code",
   "execution_count": null,
   "metadata": {},
   "outputs": [],
   "source": [
    "# Calcula Maior Média e Menor media\n",
    "def extremeAverage(students: list[dict]):\n",
    "\n",
    "   medias = calculatesAverage(students)\n",
    "   medias = medias[1:]\n",
    "\n",
    "   mediaMax = max(i[-2] for i in medias)\n",
    "   maioresMedia = [i for i in medias if i[-2] == mediaMax]\n",
    "\n",
    "   mediaMin = min(i[-2] for i in medias)\n",
    "   menoresMedia = [i for i in medias if i[-2] == mediaMin]      \n",
    "   \n",
    "   return  maioresMedia + menoresMedia\n",
    "\n",
    "\n",
    "opc_func = ['Insert','Delete','Updategrades','Find','Average','Exportcsv', 'Sair']\n",
    "\n",
    "def choseNameFunction ():\n",
    "    print(\"Escolha a função desejada a realizar\")\n",
    "    funcao = input(opc_func).title()\n",
    "    while not funcao in opc_func:\n",
    "        print(\"Entrada Inválida! , Escolha entre as opções exibidas\")\n",
    "        funcao = input(opc_func).title()\n",
    "    \n",
    "    return funcao\n",
    "\n",
    "\n",
    "dict_func = {\"Insert\":insertStudent, \"Delete\":deleteStudent , \"Find\":findStudent,\"Updategrades\":updateGrades ,\"Average\":calculatesAverage ,'Exportcsv':exportCsv}"
   ]
  },
  {
   "cell_type": "markdown",
   "metadata": {},
   "source": [
    "# Esdra Lemes Inicio"
   ]
  },
  {
   "cell_type": "code",
   "execution_count": null,
   "metadata": {},
   "outputs": [],
   "source": [
    "def getValue(msg='', func=float):\n",
    "    while True:\n",
    "        valor = input(msg)\n",
    "        try:\n",
    "            return list(map(func, [valor]))[0]\n",
    "        except ValueError:\n",
    "            msg = f'Entrada Inválida! {msg}'"
   ]
  },
  {
   "cell_type": "code",
   "execution_count": null,
   "metadata": {},
   "outputs": [],
   "source": [
    "def getMatricula() -> int:\n",
    "    return getValue('Entre com a Matricula:', func=int)"
   ]
  },
  {
   "cell_type": "code",
   "execution_count": null,
   "metadata": {},
   "outputs": [],
   "source": [
    "def getName() -> str:\n",
    "    return input('Entre com Nome:').title()\n"
   ]
  },
  {
   "cell_type": "code",
   "execution_count": null,
   "metadata": {},
   "outputs": [],
   "source": [
    "def getCurso() -> int:\n",
    "    return input('Entre com Curso: ').upper()"
   ]
  },
  {
   "cell_type": "code",
   "execution_count": null,
   "metadata": {},
   "outputs": [],
   "source": [
    "def getTurno() -> str:\n",
    "    return input('Entre com Turno: ').title()\n"
   ]
  },
  {
   "cell_type": "code",
   "execution_count": null,
   "metadata": {},
   "outputs": [],
   "source": [
    "# Insere aluno\n",
    "def insertStudent(students: list[dict]) -> bool:\n",
    "    newStudent = {\n",
    "        'Matricula': getMatricula(),\n",
    "        'Nome': getName(),\n",
    "        'Curso': getCurso(),\n",
    "        'Turno': getTurno(),\n",
    "        'Notas': []\n",
    "    }\n",
    "    students.append(newStudent)\n",
    "    return newStudent"
   ]
  },
  {
   "cell_type": "code",
   "execution_count": null,
   "metadata": {},
   "outputs": [],
   "source": [
    "# Obter Aluno especifico\n",
    "def findStudent(students: list[dict]) -> list[dict]:\n",
    "    name = getName()\n",
    "    student = list(filter(lambda students: name.title() in students[\"Nome\"], students))\n",
    "    if len(student) == 0:\n",
    "        return 'Student Not Found!'\n",
    "\n",
    "    return student"
   ]
  },
  {
   "cell_type": "markdown",
   "metadata": {},
   "source": [
    "# Esdra Lemes Fim"
   ]
  },
  {
   "cell_type": "code",
   "execution_count": null,
   "metadata": {},
   "outputs": [],
   "source": [
    "# Função Main ela executa todas as funções de acordo com o fluxo selecionado\n",
    "def main ():\n",
    "    dados = readData()\n",
    "    \n",
    "        \n",
    "main()"
   ]
  }
 ],
 "metadata": {
  "kernelspec": {
   "display_name": "Python 3",
   "language": "python",
   "name": "python3"
  },
  "language_info": {
   "codemirror_mode": {
    "name": "ipython",
    "version": 3
   },
   "file_extension": ".py",
   "mimetype": "text/x-python",
   "name": "python",
   "nbconvert_exporter": "python",
   "pygments_lexer": "ipython3",
   "version": "3.12.0"
  }
 },
 "nbformat": 4,
 "nbformat_minor": 2
}

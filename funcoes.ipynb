{
 "cells": [
  {
   "cell_type": "code",
   "execution_count": 134,
   "metadata": {},
   "outputs": [],
   "source": [
    "import json\n",
    "\n",
    "#função de Leitura do arquivo Json\n",
    "def readData(path:str = 'alunos.json') -> list[dict]:\n",
    "    try:\n",
    "        with open(path, 'r') as file:           \n",
    "            students = json.load(file) \n",
    "            return students\n",
    "    except FileNotFoundError:\n",
    "        return []\n",
    "\n",
    "\n"
   ]
  },
  {
   "cell_type": "code",
   "execution_count": 1,
   "metadata": {},
   "outputs": [],
   "source": [
    "#salvar csv com estatísticas\n",
    "def exportCsv (students: list[dict]):\n",
    "   \n",
    "    opcao = input(\"MEDIA - Exportar csv com as Médias || EXTREME - Exportar Media Maxima e Media Minima || SAIR - Não exportar \").upper()\n",
    " \n",
    "    while opcao != \"MEDIA\" and opcao != \"EXTREME\" and opcao != \"SAIR\":\n",
    "        print(\"Entrada Inválida! , Escolha entre as opções exibidas\")\n",
    "        opcao = input(\"MEDIA - Exportar csv com as Médias || EXTREME - Exportar Media Maxima e Media Minima || SAIR - Não exportar \").upper()\n",
    "\n",
    "    if opcao == \"SAIR\":\n",
    "        return print (\"Nenhum arquivo exportado !!\")\n",
    "\n",
    "    if opcao == \"MEDIA\":\n",
    "        listMedia = calculatesAverage(students)\n",
    "        with open('allAverage.csv', 'w') as file:\n",
    "            escritor = csv.writer(file, delimiter=';', lineterminator='\\n')\n",
    "            escritor.writerows(listMedia)\n",
    "            print(\"Arquivo allAverage.csv criado com sucesso!\")\n",
    "      \n",
    "    if opcao == \"EXTREME\":\n",
    "        listMaxMin = extremeAverage(students)\n",
    "        print(listMaxMin, type(listMaxMin))\n",
    "        with open('maxMin.csv', 'w') as file:\n",
    "            escritor = csv.writer(file, delimiter=';', lineterminator='\\n')\n",
    "            escritor.writerows(listMaxMin)\n",
    "            print(\"Arquivo maxMin.csv criado com sucesso!\")"
   ]
  },
  {
   "cell_type": "code",
   "execution_count": null,
   "metadata": {},
   "outputs": [],
   "source": [
    "# Função Main ela executa todas as funções de acordo com o fluxo selecionado\n",
    "def main ():\n",
    "    dados = readData()\n",
    "    \n",
    "        \n",
    "main()"
   ]
  }
 ],
 "metadata": {
  "kernelspec": {
   "display_name": "Python 3",
   "language": "python",
   "name": "python3"
  },
  "language_info": {
   "codemirror_mode": {
    "name": "ipython",
    "version": 3
   },
   "file_extension": ".py",
   "mimetype": "text/x-python",
   "name": "python",
   "nbconvert_exporter": "python",
   "pygments_lexer": "ipython3",
   "version": "3.12.0"
  }
 },
 "nbformat": 4,
 "nbformat_minor": 2
}

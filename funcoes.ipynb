{
 "cells": [
  {
   "cell_type": "code",
   "execution_count": null,
   "metadata": {},
   "outputs": [],
   "source": [
    "import json\n",
    "import csv\n",
    "\n",
    "#função de Leitura do arquivo Json\n",
    "def readData(path:str = 'alunos.json') -> list[dict]:\n",
    "    try:\n",
    "        with open(path, 'r') as file:           \n",
    "            students = json.load(file) \n",
    "            return students\n",
    "    except FileNotFoundError:\n",
    "        return []\n",
    "\n",
    "\n"
   ]
  },
  {
   "cell_type": "code",
   "execution_count": null,
   "metadata": {},
   "outputs": [],
   "source": [
    "def getValue(msg='', func=float):\n",
    "    while True:\n",
    "        valor = input(msg)\n",
    "        try:\n",
    "            return list(map(func, [valor]))[0]\n",
    "        except ValueError:\n",
    "            msg = f'Entrada Inválida! {msg}'\n",
    "\n",
    "\n",
    "def getMatricula() -> int:\n",
    "    return getValue('Entre com a Matricula:', func=int)\n",
    "\n",
    "def getName() -> str:\n",
    "    return input('Entre com Nome:').title()\n",
    "\n",
    "def getCurso() -> int:\n",
    "    return input('Entre com Curso: ').upper()\n",
    "\n",
    "def getTurno() -> str:\n",
    "    return input('Entre com Turno: ').title()"
   ]
  },
  {
   "cell_type": "code",
   "execution_count": null,
   "metadata": {},
   "outputs": [],
   "source": [
    "# Função que Insere um novo aluno\n",
    "def insertStudent(students: list[dict]) -> bool:\n",
    "    newStudent = {\n",
    "        'Matricula': getMatricula(),\n",
    "        'Nome': getName(),\n",
    "        'Curso': getCurso(),\n",
    "        'Turno': getTurno(),\n",
    "        'Notas': []\n",
    "    }\n",
    "    students.append(newStudent)\n",
    "    return newStudent"
   ]
  },
  {
   "cell_type": "code",
   "execution_count": null,
   "metadata": {},
   "outputs": [],
   "source": [
    "# Função que obter Aluno\n",
    "def findStudent(students: list[dict]) -> list[dict]:\n",
    "    name = getName()\n",
    "    student = list(filter(lambda students: name.title() in students[\"Nome\"], students))\n",
    "    if len(student) == 0:\n",
    "        return 'Student Not Found!'\n",
    "\n",
    "    return student"
   ]
  },
  {
   "cell_type": "code",
   "execution_count": null,
   "metadata": {},
   "outputs": [],
   "source": [
    "'''\n",
    "Incluir Funções Deletar e Atualiza Notas aqui\n",
    "\n",
    "'''\n",
    "\n",
    "def deleteStudent ():\n",
    "    return True\n",
    "\n",
    "def updateGrades ():\n",
    "    return True"
   ]
  },
  {
   "cell_type": "code",
   "execution_count": null,
   "metadata": {},
   "outputs": [],
   "source": [
    "# Função que calcula Media dos Alunos\n",
    "def calculatesAverage(students: list[dict]) -> list[tuple]:\n",
    "  median_list =[]\n",
    "  field = (\"Nome\",\"Media\",\"Status\")\n",
    "  median_list.append(field)\n",
    "\n",
    "  for dt in students:\n",
    "    media = sum(dt['Notas'])/4\n",
    "    status = \"\"\n",
    "    if len(dt['Notas']) < 4:\n",
    "       status = \"Inconclusivo Falta Lancamento de Nota(s)\"\n",
    "    \n",
    "    if status == \"\":\n",
    "       status = \"Aprovado\" if media >= 6 else \"Reprovado\"\n",
    "    \n",
    "    student = (dt[\"Nome\"], media, status)\n",
    "    median_list.append(student)\n",
    "  \n",
    "  return(median_list)"
   ]
  },
  {
   "cell_type": "code",
   "execution_count": null,
   "metadata": {},
   "outputs": [],
   "source": [
    "# Função que calcula Maior Média e Menor media\n",
    "def extremeAverage(students: list[dict]):\n",
    "\n",
    "   medias = calculatesAverage(students)\n",
    "   medias = medias[1:]\n",
    "\n",
    "   mediaMax = max(i[-2] for i in medias)\n",
    "   maioresMedia = [i for i in medias if i[-2] == mediaMax]\n",
    "\n",
    "   mediaMin = min(i[-2] for i in medias)\n",
    "   menoresMedia = [i for i in medias if i[-2] == mediaMin]      \n",
    "   \n",
    "   return  maioresMedia + menoresMedia"
   ]
  },
  {
   "cell_type": "code",
   "execution_count": null,
   "metadata": {},
   "outputs": [],
   "source": [
    "#salvar csv com estatísticas\n",
    "def exportCsv (students: list[dict]):\n",
    "   \n",
    "    opcao = input(\"MEDIA - Exportar csv com as Médias || EXTREME - Exportar Media Maxima e Media Minima || SAIR - Não exportar \").upper()\n",
    " \n",
    "    while opcao != \"MEDIA\" and opcao != \"EXTREME\" and opcao != \"SAIR\":\n",
    "        print(\"Entrada Inválida! , Escolha entre as opções exibidas\")\n",
    "        opcao = input(\"MEDIA - Exportar csv com as Médias || EXTREME - Exportar Media Maxima e Media Minima || SAIR - Não exportar \").upper()\n",
    "\n",
    "    if opcao == \"SAIR\":\n",
    "        return print (\"Nenhum arquivo exportado !!\")\n",
    "\n",
    "    if opcao == \"MEDIA\":\n",
    "        listMedia = calculatesAverage(students)\n",
    "        with open('allAverage.csv', 'w') as file:\n",
    "            escritor = csv.writer(file, delimiter=';', lineterminator='\\n')\n",
    "            escritor.writerows(listMedia)\n",
    "            print(\"Arquivo allAverage.csv criado com sucesso!\")\n",
    "      \n",
    "    if opcao == \"EXTREME\":\n",
    "        listMaxMin = extremeAverage(students)\n",
    "        print(listMaxMin, type(listMaxMin))\n",
    "        with open('maxMin.csv', 'w') as file:\n",
    "            escritor = csv.writer(file, delimiter=';', lineterminator='\\n')\n",
    "            escritor.writerows(listMaxMin)\n",
    "            print(\"Arquivo maxMin.csv criado com sucesso!\")"
   ]
  },
  {
   "cell_type": "code",
   "execution_count": null,
   "metadata": {},
   "outputs": [],
   "source": [
    "#Salva alterações realizadas no arquivo Json\n",
    "def saveData(students:list[dict], path:str = 'alunos.json') -> bool:\n",
    "    try:\n",
    "        with open(path, 'w') as arquivo:\n",
    "            arquivo.write(json.dumps(students))\n",
    "            return True\n",
    "    except Exception:\n",
    "        return False"
   ]
  },
  {
   "cell_type": "code",
   "execution_count": null,
   "metadata": {},
   "outputs": [],
   "source": [
    "opc_func = ['Insert','Delete','Updategrades','Find','Average','Exportcsv', 'Sair']\n",
    "\n",
    "def choseNameFunction ():\n",
    "    print(\"Escolha a função desejada a realizar\")\n",
    "    funcao = input(opc_func).title()\n",
    "    while not funcao in opc_func:\n",
    "        print(\"Entrada Inválida! , Escolha entre as opções exibidas\")\n",
    "        funcao = input(opc_func).title()\n",
    "    \n",
    "    return funcao\n",
    "\n",
    "\n",
    "dict_func = {\"Insert\":insertStudent, \"Delete\":deleteStudent , \"Find\":findStudent,\"Updategrades\":updateGrades ,\"Average\":calculatesAverage ,'Exportcsv':exportCsv}"
   ]
  },
  {
   "cell_type": "code",
   "execution_count": null,
   "metadata": {},
   "outputs": [],
   "source": [
    "# Função Main ela executa todas as funções de acordo com o fluxo selecionado\n",
    "def main ():\n",
    "    dados = readData()\n",
    "    \n",
    "    while True : \n",
    "        func = choseNameFunction()\n",
    "        print(f\"Função selecionada : {func}\")\n",
    "        \n",
    "        if func == \"Sair\":\n",
    "            print(\"Encerrando Menu !!\")\n",
    "            break\n",
    "\n",
    "        ret = dict_func[func](dados)\n",
    "        if func == \"Insert\" or func == \"Delete\" or func == \"Updategrades\":\n",
    "            saveData(dados)\n",
    "            print(ret)\n",
    "            print(\"Dados Atualizados com sucesso!!\")\n",
    "            for d in dados:\n",
    "                print(d)\n",
    "\n",
    "        if func == \"Find\" or func == \"Average\" :\n",
    "            if func == \"Average\":\n",
    "                print(ret[1:])\n",
    "            else :\n",
    "                print(ret)\n",
    "            \n",
    "        \n",
    "        \n",
    "main()"
   ]
  }
 ],
 "metadata": {
  "kernelspec": {
   "display_name": "Python 3",
   "language": "python",
   "name": "python3"
  },
  "language_info": {
   "codemirror_mode": {
    "name": "ipython",
    "version": 3
   },
   "file_extension": ".py",
   "mimetype": "text/x-python",
   "name": "python",
   "nbconvert_exporter": "python",
   "pygments_lexer": "ipython3",
   "version": "3.12.0"
  }
 },
 "nbformat": 4,
 "nbformat_minor": 2
}

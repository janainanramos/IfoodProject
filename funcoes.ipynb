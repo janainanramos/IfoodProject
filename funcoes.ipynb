{
 "cells": [
  {
   "cell_type": "code",
   "execution_count": 134,
   "metadata": {},
   "outputs": [],
   "source": [
    "import json\n",
    "\n",
    "#função de Leitura do arquivo Json\n",
    "def readData(path:str = 'alunos.json') -> list[dict]:\n",
    "    try:\n",
    "        with open(path, 'r') as file:           \n",
    "            students = json.load(file) \n",
    "            return students\n",
    "    except FileNotFoundError:\n",
    "        return []\n",
    "\n",
    "\n"
   ]
  },
  {
   "cell_type": "code",
   "execution_count": 1,
   "metadata": {},
   "outputs": [],
   "source": [
    "#salvar csv com estatísticas\n",
    "def exportCsv (students: list[dict]):\n",
    "   \n",
    "    opcao = input(\"MEDIA - Exportar csv com as Médias || EXTREME - Exportar Media Maxima e Media Minima || SAIR - Não exportar \").upper()\n",
    " \n",
    "    while opcao != \"MEDIA\" and opcao != \"EXTREME\" and opcao != \"SAIR\":\n",
    "        print(\"Entrada Inválida! , Escolha entre as opções exibidas\")\n",
    "        opcao = input(\"MEDIA - Exportar csv com as Médias || EXTREME - Exportar Media Maxima e Media Minima || SAIR - Não exportar \").upper()\n",
    "\n",
    "    if opcao == \"SAIR\":\n",
    "        return print (\"Nenhum arquivo exportado !!\")\n",
    "\n",
    "    if opcao == \"MEDIA\":\n",
    "        listMedia = calculatesAverage(students)\n",
    "        with open('allAverage.csv', 'w') as file:\n",
    "            escritor = csv.writer(file, delimiter=';', lineterminator='\\n')\n",
    "            escritor.writerows(listMedia)\n",
    "            print(\"Arquivo allAverage.csv criado com sucesso!\")\n",
    "      \n",
    "    if opcao == \"EXTREME\":\n",
    "        listMaxMin = extremeAverage(students)\n",
    "        print(listMaxMin, type(listMaxMin))\n",
    "        with open('maxMin.csv', 'w') as file:\n",
    "            escritor = csv.writer(file, delimiter=';', lineterminator='\\n')\n",
    "            escritor.writerows(listMaxMin)\n",
    "            print(\"Arquivo maxMin.csv criado com sucesso!\")"
   ]
  },
  {
   "cell_type": "code",
   "execution_count": 1,
   "metadata": {},
   "outputs": [
    {
     "ename": "NameError",
     "evalue": "name 'insertStudent' is not defined",
     "output_type": "error",
     "traceback": [
      "\u001b[1;31m---------------------------------------------------------------------------\u001b[0m",
      "\u001b[1;31mNameError\u001b[0m                                 Traceback (most recent call last)",
      "\u001b[1;32m~\\AppData\\Local\\Temp\\ipykernel_6848\\519332656.py\u001b[0m in \u001b[0;36m<module>\u001b[1;34m\u001b[0m\n\u001b[0;32m     26\u001b[0m \u001b[1;33m\u001b[0m\u001b[0m\n\u001b[0;32m     27\u001b[0m \u001b[1;33m\u001b[0m\u001b[0m\n\u001b[1;32m---> 28\u001b[1;33m \u001b[0mdict_func\u001b[0m \u001b[1;33m=\u001b[0m \u001b[1;33m{\u001b[0m\u001b[1;34m\"Insert\"\u001b[0m\u001b[1;33m:\u001b[0m\u001b[0minsertStudent\u001b[0m\u001b[1;33m,\u001b[0m \u001b[1;34m\"Delete\"\u001b[0m\u001b[1;33m:\u001b[0m\u001b[0mdeleteStudent\u001b[0m \u001b[1;33m,\u001b[0m \u001b[1;34m\"Find\"\u001b[0m\u001b[1;33m:\u001b[0m\u001b[0mfindStudent\u001b[0m\u001b[1;33m,\u001b[0m\u001b[1;34m\"Updategrades\"\u001b[0m\u001b[1;33m:\u001b[0m\u001b[0mupdateGrades\u001b[0m \u001b[1;33m,\u001b[0m\u001b[1;34m\"Average\"\u001b[0m\u001b[1;33m:\u001b[0m\u001b[0mcalculatesAverage\u001b[0m \u001b[1;33m,\u001b[0m\u001b[1;34m'Exportcsv'\u001b[0m\u001b[1;33m:\u001b[0m\u001b[0mexportCsv\u001b[0m\u001b[1;33m}\u001b[0m\u001b[1;33m\u001b[0m\u001b[1;33m\u001b[0m\u001b[0m\n\u001b[0m",
      "\u001b[1;31mNameError\u001b[0m: name 'insertStudent' is not defined"
     ]
    }
   ],
   "source": [
    "# Calcula Maior Média e Menor media\n",
    "def extremeAverage(students: list[dict]):\n",
    "\n",
    "   medias = calculatesAverage(students)\n",
    "   medias = medias[1:]\n",
    "\n",
    "   mediaMax = max(i[-2] for i in medias)\n",
    "   maioresMedia = [i for i in medias if i[-2] == mediaMax]\n",
    "\n",
    "   mediaMin = min(i[-2] for i in medias)\n",
    "   menoresMedia = [i for i in medias if i[-2] == mediaMin]      \n",
    "   \n",
    "   return  maioresMedia + menoresMedia\n",
    "\n",
    "\n",
    "opc_func = ['Insert','Delete','Updategrades','Find','Average','Exportcsv', 'Sair']\n",
    "\n",
    "def choseNameFunction ():\n",
    "    print(\"Escolha a função desejada a realizar\")\n",
    "    funcao = input(opc_func).title()\n",
    "    while not funcao in opc_func:\n",
    "        print(\"Entrada Inválida! , Escolha entre as opções exibidas\")\n",
    "        funcao = input(opc_func).title()\n",
    "    \n",
    "    return funcao\n",
    "\n",
    "\n",
    "dict_func = {\"Insert\":insertStudent, \"Delete\":deleteStudent , \"Find\":findStudent,\"Updategrades\":updateGrades ,\"Average\":calculatesAverage ,'Exportcsv':exportCsv}"
   ]
  },
  {
   "cell_type": "code",
   "execution_count": null,
   "metadata": {},
   "outputs": [],
   "source": [
    "# Função Main ela executa todas as funções de acordo com o fluxo selecionado\n",
    "def main ():\n",
    "    dados = readData()\n",
    "    \n",
    "        \n",
    "main()"
   ]
  }
 ],
 "metadata": {
  "kernelspec": {
   "display_name": "Python 3",
   "language": "python",
   "name": "python3"
  },
  "language_info": {
   "codemirror_mode": {
    "name": "ipython",
    "version": 3
   },
   "file_extension": ".py",
   "mimetype": "text/x-python",
   "name": "python",
   "nbconvert_exporter": "python",
   "pygments_lexer": "ipython3",
   "version": "3.9.13"
  }
 },
 "nbformat": 4,
 "nbformat_minor": 2
}
